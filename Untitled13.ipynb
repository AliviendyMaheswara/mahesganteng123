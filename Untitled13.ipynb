{
 "cells": [
  {
   "cell_type": "code",
   "execution_count": 1,
   "id": "e058f011-a156-4402-94d1-a0cb1e0ddcfd",
   "metadata": {
    "scrolled": true
   },
   "outputs": [
    {
     "name": "stdin",
     "output_type": "stream",
     "text": [
      "masukan bilangan untuk pengulangan:  7\n"
     ]
    },
    {
     "name": "stdout",
     "output_type": "stream",
     "text": [
      "7777777\n",
      "666666\n",
      "55555\n",
      "4444\n",
      "333\n",
      "22\n",
      "1\n"
     ]
    }
   ],
   "source": [
    "i = int(input('masukan bilangan untuk pengulangan: '))\n",
    "for i in range(i, 0, -1):\n",
    "    print(str(i) * i)"
   ]
  },
  {
   "cell_type": "code",
   "execution_count": 21,
   "id": "4232e8e3-6f4b-40a1-a2a3-7b9ad8e9efbb",
   "metadata": {},
   "outputs": [
    {
     "name": "stdin",
     "output_type": "stream",
     "text": [
      "Masukkan bulan (1-12):  1\n",
      "Masukkan tahun:  2023\n"
     ]
    },
    {
     "name": "stdout",
     "output_type": "stream",
     "text": [
      "Bulan 1 tahun 2023 memiliki 31 hari.\n"
     ]
    },
    {
     "name": "stdin",
     "output_type": "stream",
     "text": [
      "Masukkan bulan (1-12):  9\n",
      "Masukkan tahun:  2023\n"
     ]
    },
    {
     "name": "stdout",
     "output_type": "stream",
     "text": [
      "Bulan 9 tahun 2023 memiliki 30 hari.\n"
     ]
    },
    {
     "name": "stdin",
     "output_type": "stream",
     "text": [
      "Masukkan bulan (1-12):  2\n",
      "Masukkan tahun:  2023\n"
     ]
    },
    {
     "name": "stdout",
     "output_type": "stream",
     "text": [
      "Bulan 2 tahun 2023 memiliki 28 hari.\n"
     ]
    },
    {
     "name": "stdin",
     "output_type": "stream",
     "text": [
      "Masukkan bulan (1-12):  1\n",
      "Masukkan tahun:  2023\n"
     ]
    },
    {
     "name": "stdout",
     "output_type": "stream",
     "text": [
      "Bulan 1 tahun 2023 memiliki 31 hari.\n"
     ]
    }
   ],
   "source": [
    "def jumlah_hari(bulan, tahun):\n",
    "    # Menentukan jumlah hari dalam bulan tertentu\n",
    "    if bulan in [1, 3, 5, 7, 8, 10, 12]:\n",
    "        return 31\n",
    "    elif bulan in [4, 6, 9, 11]:\n",
    "        return 30\n",
    "    elif bulan == 2:\n",
    "        # Memeriksa tahun kabisat\n",
    "        if (tahun % 4 == 0 and tahun % 100 != 0) or (tahun % 400 == 0):\n",
    "            return 29\n",
    "        else:\n",
    "            return 28\n",
    "    else:\n",
    "        return None  # Bulan tidak valid\n",
    "\n",
    "# Meminta input dari pengguna\n",
    "while True:\n",
    "    try:\n",
    "        bulan = int(input(\"Masukkan bulan (1-12): \"))\n",
    "        tahun = int(input(\"Masukkan tahun: \"))\n",
    "        if 1 <= bulan <= 12:\n",
    "            hari = jumlah_hari(bulan, tahun)\n",
    "            if hari is not None:\n",
    "                print(f\"Bulan {bulan} tahun {tahun} memiliki {hari} hari.\")\n",
    "                break\n",
    "        else:\n",
    "            print(\"Bulan tidak valid. Silakan masukkan bulan antara 1 dan 12.\")\n",
    "    except ValueError:\n",
    "        print(\"Input tidak valid. Silakan masukkan angka untuk bulan dan tahun.\")\n",
    "\n",
    "def jumlah_hari(bulan, tahun):\n",
    "    # Menentukan jumlah hari dalam bulan tertentu\n",
    "    if bulan in [1, 3, 5, 7, 8, 10, 12]:\n",
    "        return 31\n",
    "    elif bulan in [4, 6, 9, 11]:\n",
    "        return 30\n",
    "    elif bulan == 2:\n",
    "        # Memeriksa tahun kabisat\n",
    "        if (tahun % 4 == 0 and tahun % 100 != 0) or (tahun % 400 == 0):\n",
    "            return 29\n",
    "        else:\n",
    "            return 28\n",
    "    else:\n",
    "        return None  # Bulan tidak valid\n",
    "\n",
    "# Meminta input dari pengguna\n",
    "while True:\n",
    "    try:\n",
    "        bulan = int(input(\"Masukkan bulan (1-12): \"))\n",
    "        tahun = int(input(\"Masukkan tahun: \"))\n",
    "        if 1 <= bulan <= 12:\n",
    "            hari = jumlah_hari(bulan, tahun)\n",
    "            if hari is not None:\n",
    "                print(f\"Bulan {bulan} tahun {tahun} memiliki {hari} hari.\")\n",
    "                break\n",
    "        else:\n",
    "            print(\"Bulan tidak valid. Silakan masukkan bulan antara 1 dan 12.\")\n",
    "    except ValueError:\n",
    "        print(\"Input tidak valid. Silakan masukkan angka untuk bulan dan tahun.\")\n",
    "\n",
    "def jumlah_hari(bulan, tahun):\n",
    "    # Menentukan jumlah hari dalam bulan tertentu\n",
    "    if bulan in [1, 3, 5, 7, 8, 10, 12]:\n",
    "        return 31\n",
    "    elif bulan in [4, 6, 9, 11]:\n",
    "        return 30\n",
    "    elif bulan == 2:\n",
    "        # Memeriksa tahun kabisat\n",
    "        if (tahun % 4 == 0 and tahun % 100 != 0) or (tahun % 400 == 0):\n",
    "            return 29\n",
    "        else:\n",
    "            return 28\n",
    "    else:\n",
    "        return None  # Bulan tidak valid\n",
    "\n",
    "# Meminta input dari pengguna\n",
    "while True:\n",
    "    try:\n",
    "        bulan = int(input(\"Masukkan bulan (1-12): \"))\n",
    "        tahun = int(input(\"Masukkan tahun: \"))\n",
    "        if 1 <= bulan <= 12:\n",
    "            hari = jumlah_hari(bulan, tahun)\n",
    "            if hari is not None:\n",
    "                print(f\"Bulan {bulan} tahun {tahun} memiliki {hari} hari.\")\n",
    "                break\n",
    "        else:\n",
    "            print(\"Bulan tidak valid. Silakan masukkan bulan antara 1 dan 12.\")\n",
    "    except ValueError:\n",
    "        print(\"Input tidak valid. Silakan masukkan angka untuk bulan dan tahun.\")\n",
    "\n",
    "def jumlah_hari(bulan, tahun):\n",
    "    # Menentukan jumlah hari dalam bulan tertentu\n",
    "    if bulan in [1, 3, 5, 7, 8, 10, 12]:\n",
    "        return 31\n",
    "    elif bulan in [4, 6, 9, 11]:\n",
    "        return 30\n",
    "    elif bulan == 2:\n",
    "        # Memeriksa tahun kabisat\n",
    "        if (tahun % 4 == 0 and tahun % 100 != 0) or (tahun % 400 == 0):\n",
    "            return 29\n",
    "        else:\n",
    "            return 28\n",
    "    else:\n",
    "        return None  # Bulan tidak valid\n",
    "\n",
    "# Meminta input dari pengguna\n",
    "while True:\n",
    "    try:\n",
    "        bulan = int(input(\"Masukkan bulan (1-12): \"))\n",
    "        tahun = int(input(\"Masukkan tahun: \"))\n",
    "        if 1 <= bulan <= 12:\n",
    "            hari = jumlah_hari(bulan, tahun)\n",
    "            if hari is not None:\n",
    "                print(f\"Bulan {bulan} tahun {tahun} memiliki {hari} hari.\")\n",
    "                break\n",
    "        else:\n",
    "            print(\"Bulan tidak valid. Silakan masukkan bulan antara 1 dan 12.\")\n",
    "    except ValueError:\n",
    "        print(\"Input tidak valid. Silakan masukkan angka untuk bulan dan tahun.\")"
   ]
  },
  {
   "cell_type": "markdown",
   "id": "32efc828-ec5b-4b0d-bb46-a8ae2009e40f",
   "metadata": {},
   "source": [
    "## "
   ]
  }
 ],
 "metadata": {
  "kernelspec": {
   "display_name": "Python 3 (ipykernel)",
   "language": "python",
   "name": "python3"
  },
  "language_info": {
   "codemirror_mode": {
    "name": "ipython",
    "version": 3
   },
   "file_extension": ".py",
   "mimetype": "text/x-python",
   "name": "python",
   "nbconvert_exporter": "python",
   "pygments_lexer": "ipython3",
   "version": "3.12.4"
  }
 },
 "nbformat": 4,
 "nbformat_minor": 5
}
